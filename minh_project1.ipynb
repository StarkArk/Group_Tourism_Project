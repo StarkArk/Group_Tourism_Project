{
 "cells": [
  {
   "cell_type": "code",
   "execution_count": 2,
   "id": "9eb00fa1",
   "metadata": {},
   "outputs": [],
   "source": [
    "import geopandas as gpd\n",
    "\n",
    "df = gpd.read_file(\"neighbourhoods.geojson\")"
   ]
  },
  {
   "cell_type": "code",
   "execution_count": 3,
   "id": "563f2632",
   "metadata": {},
   "outputs": [
    {
     "name": "stdout",
     "output_type": "stream",
     "text": [
      "<class 'geopandas.geodataframe.GeoDataFrame'>\n",
      "RangeIndex: 233 entries, 0 to 232\n",
      "Data columns (total 3 columns):\n",
      " #   Column               Non-Null Count  Dtype   \n",
      "---  ------               --------------  -----   \n",
      " 0   neighbourhood        233 non-null    object  \n",
      " 1   neighbourhood_group  233 non-null    object  \n",
      " 2   geometry             233 non-null    geometry\n",
      "dtypes: geometry(1), object(2)\n",
      "memory usage: 5.6+ KB\n"
     ]
    }
   ],
   "source": [
    "df.info()"
   ]
  },
  {
   "cell_type": "code",
   "execution_count": 6,
   "id": "00f24009",
   "metadata": {},
   "outputs": [
    {
     "data": {
      "text/html": [
       "<div>\n",
       "<style scoped>\n",
       "    .dataframe tbody tr th:only-of-type {\n",
       "        vertical-align: middle;\n",
       "    }\n",
       "\n",
       "    .dataframe tbody tr th {\n",
       "        vertical-align: top;\n",
       "    }\n",
       "\n",
       "    .dataframe thead th {\n",
       "        text-align: right;\n",
       "    }\n",
       "</style>\n",
       "<table border=\"1\" class=\"dataframe\">\n",
       "  <thead>\n",
       "    <tr style=\"text-align: right;\">\n",
       "      <th></th>\n",
       "      <th>neighbourhood</th>\n",
       "      <th>neighbourhood_group</th>\n",
       "      <th>geometry</th>\n",
       "    </tr>\n",
       "  </thead>\n",
       "  <tbody>\n",
       "    <tr>\n",
       "      <th>0</th>\n",
       "      <td>Bayswater</td>\n",
       "      <td>Queens</td>\n",
       "      <td>MULTIPOLYGON (((-73.76671 40.61491, -73.76825 ...</td>\n",
       "    </tr>\n",
       "    <tr>\n",
       "      <th>1</th>\n",
       "      <td>Allerton</td>\n",
       "      <td>Bronx</td>\n",
       "      <td>MULTIPOLYGON (((-73.84860 40.87167, -73.84582 ...</td>\n",
       "    </tr>\n",
       "    <tr>\n",
       "      <th>2</th>\n",
       "      <td>City Island</td>\n",
       "      <td>Bronx</td>\n",
       "      <td>MULTIPOLYGON (((-73.78282 40.84392, -73.78257 ...</td>\n",
       "    </tr>\n",
       "    <tr>\n",
       "      <th>3</th>\n",
       "      <td>Ditmars Steinway</td>\n",
       "      <td>Queens</td>\n",
       "      <td>MULTIPOLYGON (((-73.90160 40.76777, -73.90391 ...</td>\n",
       "    </tr>\n",
       "    <tr>\n",
       "      <th>4</th>\n",
       "      <td>Ozone Park</td>\n",
       "      <td>Queens</td>\n",
       "      <td>MULTIPOLYGON (((-73.83754 40.69136, -73.83108 ...</td>\n",
       "    </tr>\n",
       "    <tr>\n",
       "      <th>...</th>\n",
       "      <td>...</td>\n",
       "      <td>...</td>\n",
       "      <td>...</td>\n",
       "    </tr>\n",
       "    <tr>\n",
       "      <th>228</th>\n",
       "      <td>Westchester Square</td>\n",
       "      <td>Bronx</td>\n",
       "      <td>MULTIPOLYGON (((-73.84294 40.84640, -73.83913 ...</td>\n",
       "    </tr>\n",
       "    <tr>\n",
       "      <th>229</th>\n",
       "      <td>Westerleigh</td>\n",
       "      <td>Staten Island</td>\n",
       "      <td>MULTIPOLYGON (((-74.13131 40.62633, -74.13192 ...</td>\n",
       "    </tr>\n",
       "    <tr>\n",
       "      <th>230</th>\n",
       "      <td>Williamsbridge</td>\n",
       "      <td>Bronx</td>\n",
       "      <td>MULTIPOLYGON (((-73.86722 40.86969, -73.86701 ...</td>\n",
       "    </tr>\n",
       "    <tr>\n",
       "      <th>231</th>\n",
       "      <td>Williamsburg</td>\n",
       "      <td>Brooklyn</td>\n",
       "      <td>MULTIPOLYGON (((-73.95757 40.72510, -73.95300 ...</td>\n",
       "    </tr>\n",
       "    <tr>\n",
       "      <th>232</th>\n",
       "      <td>Willowbrook</td>\n",
       "      <td>Staten Island</td>\n",
       "      <td>MULTIPOLYGON (((-74.14707 40.60550, -74.14203 ...</td>\n",
       "    </tr>\n",
       "  </tbody>\n",
       "</table>\n",
       "<p>233 rows × 3 columns</p>\n",
       "</div>"
      ],
      "text/plain": [
       "          neighbourhood neighbourhood_group  \\\n",
       "0             Bayswater              Queens   \n",
       "1              Allerton               Bronx   \n",
       "2           City Island               Bronx   \n",
       "3      Ditmars Steinway              Queens   \n",
       "4            Ozone Park              Queens   \n",
       "..                  ...                 ...   \n",
       "228  Westchester Square               Bronx   \n",
       "229         Westerleigh       Staten Island   \n",
       "230      Williamsbridge               Bronx   \n",
       "231        Williamsburg            Brooklyn   \n",
       "232         Willowbrook       Staten Island   \n",
       "\n",
       "                                              geometry  \n",
       "0    MULTIPOLYGON (((-73.76671 40.61491, -73.76825 ...  \n",
       "1    MULTIPOLYGON (((-73.84860 40.87167, -73.84582 ...  \n",
       "2    MULTIPOLYGON (((-73.78282 40.84392, -73.78257 ...  \n",
       "3    MULTIPOLYGON (((-73.90160 40.76777, -73.90391 ...  \n",
       "4    MULTIPOLYGON (((-73.83754 40.69136, -73.83108 ...  \n",
       "..                                                 ...  \n",
       "228  MULTIPOLYGON (((-73.84294 40.84640, -73.83913 ...  \n",
       "229  MULTIPOLYGON (((-74.13131 40.62633, -74.13192 ...  \n",
       "230  MULTIPOLYGON (((-73.86722 40.86969, -73.86701 ...  \n",
       "231  MULTIPOLYGON (((-73.95757 40.72510, -73.95300 ...  \n",
       "232  MULTIPOLYGON (((-74.14707 40.60550, -74.14203 ...  \n",
       "\n",
       "[233 rows x 3 columns]"
      ]
     },
     "execution_count": 6,
     "metadata": {},
     "output_type": "execute_result"
    }
   ],
   "source": [
    "df"
   ]
  },
  {
   "cell_type": "code",
   "execution_count": 11,
   "id": "e5c469a1",
   "metadata": {},
   "outputs": [],
   "source": [
    "df.to_csv(\"..,Tourism_Project\")"
   ]
  },
  {
   "cell_type": "code",
   "execution_count": null,
   "id": "b17c2bb4",
   "metadata": {},
   "outputs": [],
   "source": []
  }
 ],
 "metadata": {
  "kernelspec": {
   "display_name": "Python 3 (ipykernel)",
   "language": "python",
   "name": "python3"
  },
  "language_info": {
   "codemirror_mode": {
    "name": "ipython",
    "version": 3
   },
   "file_extension": ".py",
   "mimetype": "text/x-python",
   "name": "python",
   "nbconvert_exporter": "python",
   "pygments_lexer": "ipython3",
   "version": "3.10.13"
  }
 },
 "nbformat": 4,
 "nbformat_minor": 5
}
